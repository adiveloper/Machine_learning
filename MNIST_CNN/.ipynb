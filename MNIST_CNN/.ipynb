{
 "cells": [
  {
   "cell_type": "code",
   "execution_count": 166,
   "metadata": {},
   "outputs": [],
   "source": [
    "import numpy as np\n",
    "import matplotlib.pyplot as plt\n",
    "import keras\n",
    "from keras.models import Sequential \n",
    "from keras.optimizers import Adam\n",
    "from keras.layers import Dense, Flatten\n",
    "from keras.layers.convolutional import Conv2D,MaxPooling2D\n",
    "from keras.datasets import mnist\n",
    "from keras.utils.np_utils import to_categorical\n",
    "import random\n",
    "import cv2\n",
    "import requests\n",
    "from PIL import Image\n",
    " "
   ]
  },
  {
   "cell_type": "code",
   "execution_count": 71,
   "metadata": {},
   "outputs": [
    {
     "name": "stdout",
     "output_type": "stream",
     "text": [
      "(60000, 28, 28)\n",
      "(10000, 28, 28)\n"
     ]
    }
   ],
   "source": [
    "#download dataset\n",
    "(X_train,y_train),(X_test,y_test) = mnist.load_data()\n",
    "print(X_train.shape)\n",
    "print(X_test.shape)"
   ]
  },
  {
   "cell_type": "code",
   "execution_count": 72,
   "metadata": {},
   "outputs": [
    {
     "name": "stdout",
     "output_type": "stream",
     "text": [
      "(60000, 28, 28)\n"
     ]
    }
   ],
   "source": [
    "#reshape\n",
    "X_train_DNN = X_train.reshape(X_train.shape[0],784)\n",
    "X_test_DNN = X_test.reshape(X_test.shape[0],784)\n",
    "print(X_train.shape)"
   ]
  },
  {
   "cell_type": "code",
   "execution_count": 73,
   "metadata": {},
   "outputs": [],
   "source": [
    "#one hot encoding\n",
    "y_train = to_categorical(y_train,10)\n",
    "y_test = to_categorical(y_test,10)"
   ]
  },
  {
   "cell_type": "code",
   "execution_count": 74,
   "metadata": {},
   "outputs": [],
   "source": [
    "#normazlizing\n",
    "X_train_DNN = X_train_DNN/255\n",
    "X_test_DNN = X_test_DNN/255 "
   ]
  },
  {
   "cell_type": "markdown",
   "metadata": {},
   "source": [
    "# MNIST Without CNN "
   ]
  },
  {
   "cell_type": "code",
   "execution_count": 76,
   "metadata": {},
   "outputs": [
    {
     "name": "stdout",
     "output_type": "stream",
     "text": [
      "_________________________________________________________________\n",
      "Layer (type)                 Output Shape              Param #   \n",
      "=================================================================\n",
      "dense_7 (Dense)              (None, 20)                15700     \n",
      "_________________________________________________________________\n",
      "dense_8 (Dense)              (None, 20)                420       \n",
      "_________________________________________________________________\n",
      "dense_9 (Dense)              (None, 20)                420       \n",
      "_________________________________________________________________\n",
      "dense_10 (Dense)             (None, 10)                210       \n",
      "=================================================================\n",
      "Total params: 16,750\n",
      "Trainable params: 16,750\n",
      "Non-trainable params: 0\n",
      "_________________________________________________________________\n",
      "None\n"
     ]
    }
   ],
   "source": [
    "#Without CNN modedl Build\n",
    "#28 * 28 = 784\n",
    "#The dense layers can be played with \n",
    "#1) Adding more layers \n",
    "#2)Adding_subtracting Neurons of layers to get better aacuracy\n",
    "model = Sequential()\n",
    "model.add(Dense(20 , input_dim = 784, activation = 'relu'))\n",
    "model.add(Dense(20,activation = 'relu'))\n",
    "model.add(Dense(20,activation = 'relu'))\n",
    "model.add(Dense(10,activation = 'softmax'))\n",
    "model.compile(Adam(lr = 0.01),loss = 'categorical_crossentropy',metrics = ['accuracy'])\n",
    "print(model.summary())\n"
   ]
  },
  {
   "cell_type": "code",
   "execution_count": 75,
   "metadata": {},
   "outputs": [],
   "source": [
    "#Without CNN modedl training\n",
    "his = model.fit(X_train_DNN,y_train,verbose = 0,validation_split = 0.1,epochs = 12, batch_size = 50)"
   ]
  },
  {
   "cell_type": "code",
   "execution_count": 77,
   "metadata": {},
   "outputs": [
    {
     "name": "stdout",
     "output_type": "stream",
     "text": [
      "<class 'list'>\n",
      "Test score: 2.3176039268493653\n",
      "Test accuracy: 0.0933\n"
     ]
    },
    {
     "data": {
      "image/png": "[encoded data removed]",
      "text/plain": [
       "<Figure size 432x288 with 1 Axes>"
      ]
     },
     "metadata": {
      "needs_background": "light"
     },
     "output_type": "display_data"
    }
   ],
   "source": [
    "#plot training and validation to visualize model behaviour\n",
    "plt.plot(his.history['loss'])\n",
    "plt.plot(his.history['val_acc'])\n",
    "plt.legend(['acc','val_acc'])\n",
    "plt.title('Accuracy')\n",
    "plt.xlabel('epoch')\n",
    "score = model.evaluate(X_test_DNN, y_test, verbose=0)\n",
    "print(type(score))\n",
    "print('Test score:', score[0])\n",
    "print('Test accuracy:', score[1])"
   ]
  },
  {
   "cell_type": "markdown",
   "metadata": {},
   "source": [
    "# MNIST With CNN"
   ]
  },
  {
   "cell_type": "code",
   "execution_count": 78,
   "metadata": {},
   "outputs": [
    {
     "name": "stdout",
     "output_type": "stream",
     "text": [
      "(60000, 28, 28)\n"
     ]
    }
   ],
   "source": [
    "#reshape\n",
    "X_train_CNN = X_train.reshape(60000,28,28,1)\n",
    "X_test_CNN = X_test.reshape(10000,28,28,1)\n",
    "print(X_train.shape)"
   ]
  },
  {
   "cell_type": "code",
   "execution_count": 80,
   "metadata": {},
   "outputs": [],
   "source": [
    "#normazlizing\n",
    "X_train_CNN = X_train_CNN/255\n",
    "X_test_CNN = X_test_CNN/255 "
   ]
  },
  {
   "cell_type": "code",
   "execution_count": 79,
   "metadata": {},
   "outputs": [
    {
     "name": "stdout",
     "output_type": "stream",
     "text": [
      "_________________________________________________________________\n",
      "Layer (type)                 Output Shape              Param #   \n",
      "=================================================================\n",
      "conv2d_3 (Conv2D)            (None, 24, 24, 30)        780       \n",
      "_________________________________________________________________\n",
      "max_pooling2d_3 (MaxPooling2 (None, 12, 12, 30)        0         \n",
      "_________________________________________________________________\n",
      "conv2d_4 (Conv2D)            (None, 10, 10, 15)        4065      \n",
      "_________________________________________________________________\n",
      "max_pooling2d_4 (MaxPooling2 (None, 5, 5, 15)          0         \n",
      "_________________________________________________________________\n",
      "flatten_2 (Flatten)          (None, 375)               0         \n",
      "_________________________________________________________________\n",
      "dense_11 (Dense)             (None, 500)               188000    \n",
      "_________________________________________________________________\n",
      "dense_12 (Dense)             (None, 10)                5010      \n",
      "=================================================================\n",
      "Total params: 197,855\n",
      "Trainable params: 197,855\n",
      "Non-trainable params: 0\n",
      "_________________________________________________________________\n",
      "None\n"
     ]
    }
   ],
   "source": [
    "#With CNN modedl Build\n",
    "#28 * 28 = 784\n",
    "#The dense and CNN layers can be played with \n",
    "#1) Adding more layers \n",
    "#2)Adding_subtracting Neurons of layers to get better aacuracy\n",
    "model1 = Sequential()\n",
    "model1.add(Conv2D(30,(5,5),input_shape=(28,28,1), activation = 'relu'))\n",
    "model1.add(MaxPooling2D(2,2))\n",
    "model1.add(Conv2D(15,(3,3), activation = 'relu'))\n",
    "model1.add(MaxPooling2D(2,2))\n",
    "model1.add(Flatten())\n",
    "model1.add(Dense(500,activation = 'relu'))\n",
    "model1.add(Dense(10,activation = 'softmax'))\n",
    "model1.compile(Adam(lr = 0.01),loss = 'categorical_crossentropy',metrics = ['accuracy'])\n",
    "print(model1.summary())"
   ]
  },
  {
   "cell_type": "code",
   "execution_count": 84,
   "metadata": {},
   "outputs": [],
   "source": [
    "#With CNN modedl1 training\n",
    "his1 = model1.fit(X_train_CNN,y_train,epochs = 12,validation_split = 0.1,batch_size = 400,verbose = 0,shuffle = 1)"
   ]
  },
  {
   "cell_type": "code",
   "execution_count": 83,
   "metadata": {},
   "outputs": [
    {
     "name": "stdout",
     "output_type": "stream",
     "text": [
      "<class 'list'>\n",
      "Test score: 2.3176039268493653\n",
      "Test accuracy: 0.0933\n"
     ]
    },
    {
     "data": {
      "image/png": "[encoded data removed]",
      "text/plain": [
       "<Figure size 432x288 with 1 Axes>"
      ]
     },
     "metadata": {
      "needs_background": "light"
     },
     "output_type": "display_data"
    }
   ],
   "source": [
    "plt.plot(his1.history['loss'])\n",
    "plt.plot(his1.history['val_acc'])\n",
    "plt.legend(['acc','val_acc'])\n",
    "plt.title('Accuracy')\n",
    "plt.xlabel('epoch')\n",
    "score = model.evaluate(X_test_DNN, y_test, verbose=0)\n",
    "print(type(score))\n",
    "print('Test score:', score[0])\n",
    "print('Test accuracy:', score[1])"
   ]
  },
  {
   "cell_type": "code",
   "execution_count": 180,
   "metadata": {},
   "outputs": [
    {
     "data": {
      "text/plain": [
       "<matplotlib.image.AxesImage at 0x17dbca8d438>"
      ]
     },
     "execution_count": 180,
     "metadata": {},
     "output_type": "execute_result"
    },
    {
     "data": {
      "image/png": "[encoded data removed]",
      "text/plain": [
       "<Figure size 432x288 with 1 Axes>"
      ]
     },
     "metadata": {
      "needs_background": "light"
     },
     "output_type": "display_data"
    }
   ],
   "source": [
    "url = 'https://www.researchgate.net/profile/Jose_Sempere/publication/221258631/figure/fig1/AS:305526891139075@1449854695342/Handwritten-digit-2.png'\n",
    "response = requests.get(url, stream=True)\n",
    "img = Image.open(response.raw)\n",
    "plt.imshow(img, cmap=plt.get_cmap('gray'))\n",
    " \n",
    "import cv2\n",
    " \n",
    "img = np.asarray(img)\n",
    "img = cv2.resize(img, (28, 28))\n",
    "img = cv2.cvtColor(img, cv2.COLOR_BGR2GRAY)\n",
    "img = cv2.bitwise_not(img)\n",
    "plt.imshow(img, cmap=plt.get_cmap('gray'))"
   ]
  },
  {
   "cell_type": "code",
   "execution_count": 181,
   "metadata": {},
   "outputs": [
    {
     "name": "stdout",
     "output_type": "stream",
     "text": [
      "predicted digit: [1]\n"
     ]
    }
   ],
   "source": [
    "img_DNN = img/255\n",
    "img_DNN = img_DNN.reshape(1, 784)\n",
    " \n",
    "prediction = model.predict_classes(img_DNN)\n",
    "print(\"predicted digit:\", str(prediction))"
   ]
  },
  {
   "cell_type": "code",
   "execution_count": 182,
   "metadata": {},
   "outputs": [
    {
     "name": "stdout",
     "output_type": "stream",
     "text": [
      "predicted digit: [2]\n"
     ]
    }
   ],
   "source": [
    "img_CNN = img/255\n",
    "img_CNN = img_CNN.reshape(1,28,28,1)\n",
    "#plt.imshow(img_CNN, cmap=plt.get_cmap('gray'))\n",
    " \n",
    "prediction = model1.predict_classes(img_CNN)\n",
    "print(\"predicted digit:\", str(prediction))"
   ]
  }
 ],
 "metadata": {
  "kernelspec": {
   "display_name": "Python 3",
   "language": "python",
   "name": "python3"
  },
  "language_info": {
   "codemirror_mode": {
    "name": "ipython",
    "version": 3
   },
   "file_extension": ".py",
   "mimetype": "text/x-python",
   "name": "python",
   "nbconvert_exporter": "python",
   "pygments_lexer": "ipython3",
   "version": "3.6.6"
  }
 },
 "nbformat": 4,
 "nbformat_minor": 2
}
