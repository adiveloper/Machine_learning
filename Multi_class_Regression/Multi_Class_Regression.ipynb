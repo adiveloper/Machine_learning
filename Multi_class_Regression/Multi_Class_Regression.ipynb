{
 "cells": [
  {
   "cell_type": "code",
   "execution_count": 2,
   "metadata": {},
   "outputs": [
    {
     "name": "stderr",
     "output_type": "stream",
     "text": [
      "Using TensorFlow backend.\n"
     ]
    }
   ],
   "source": [
    "import numpy as np\n",
    "import matplotlib.pyplot as plt\n",
    "from sklearn import datasets\n",
    "import keras\n",
    "from keras.models import Sequential\n",
    "from keras.layers import Dense\n",
    "from keras.optimizers import Adam\n",
    "from keras.utils.np_utils import to_categorical"
   ]
  },
  {
   "cell_type": "code",
   "execution_count": 3,
   "metadata": {},
   "outputs": [],
   "source": [
    "n_pts = 500\n",
    "centers = [[-1,1],[-1,-1],[1,-1]]\n",
    "X,y = datasets.make_blobs(n_samples = n_pts,\n",
    "                          random_state = 123,\n",
    "                          centers = centers,\n",
    "                         cluster_std = 0.4)\n"
   ]
  },
  {
   "cell_type": "code",
   "execution_count": 4,
   "metadata": {},
   "outputs": [
    {
     "data": {
      "text/plain": [
       "<matplotlib.collections.PathCollection at 0x1e45a50bd30>"
      ]
     },
     "execution_count": 4,
     "metadata": {},
     "output_type": "execute_result"
    },
    {
     "data": {
      "image/png": "[encoded data removed]",
      "text/plain": [
       "<Figure size 432x288 with 1 Axes>"
      ]
     },
     "metadata": {
      "needs_background": "light"
     },
     "output_type": "display_data"
    }
   ],
   "source": [
    "plt.scatter(X[y==0,0],X[y==0,1])\n",
    "plt.scatter(X[y==1,0],X[y==1,1])\n",
    "plt.scatter(X[y==2,0],X[y==2,1])"
   ]
  },
  {
   "cell_type": "code",
   "execution_count": 5,
   "metadata": {},
   "outputs": [
    {
     "name": "stdout",
     "output_type": "stream",
     "text": [
      "[2 2 2 0 1 0 0 2 2 2 1 1 0 0 1 2 2 2 2 0 2 0 1 2 1 2 0 0 2 1 1 0 0 2 1 0 2\n",
      " 0 2 0 0 2 1 0 2 0 1 2 0 2 0 1 1 0 1 2 2 0 1 2 0 2 0 2 1 0 1 1 1 1 2 1 1 1\n",
      " 1 1 2 1 1 2 0 1 2 2 1 0 2 1 1 2 0 0 2 1 2 2 0 1 2 0 2 1 1 2 2 0 0 1 2 1 1\n",
      " 2 0 0 1 0 2 2 2 2 1 2 1 2 0 2 2 0 1 0 0 0 0 2 0 1 0 2 2 0 2 2 2 2 1 2 0 0\n",
      " 0 2 1 0 2 0 0 1 1 0 2 0 0 1 1 2 2 0 2 1 2 2 2 1 1 1 2 0 0 1 0 1 2 2 1 1 2\n",
      " 1 1 0 0 2 2 1 0 0 0 0 2 2 0 2 1 1 2 0 0 2 2 0 1 0 2 0 2 2 0 0 2 1 2 0 2 0\n",
      " 1 1 2 0 0 0 2 1 2 2 2 0 0 1 0 2 0 2 0 2 1 1 1 2 2 1 1 1 0 1 2 1 0 1 2 2 0\n",
      " 0 0 1 1 1 2 1 1 2 1 1 2 0 0 0 2 0 2 0 0 0 2 1 1 0 2 1 0 0 1 1 1 1 2 1 1 0\n",
      " 0 0 2 1 1 1 0 0 0 0 0 0 0 1 2 1 2 1 0 2 0 0 1 2 0 1 2 2 2 2 2 0 1 2 0 2 1\n",
      " 0 0 1 2 0 2 0 1 1 0 2 1 0 1 1 1 0 2 0 2 0 1 1 0 1 1 1 2 2 0 2 0 2 2 1 1 0\n",
      " 2 2 2 1 1 1 2 2 0 1 2 1 2 0 1 2 2 2 0 1 1 1 2 0 2 0 0 2 1 1 1 2 0 1 0 0 1\n",
      " 1 2 0 0 1 2 1 1 0 2 0 1 0 2 0 0 0 1 1 1 2 0 1 1 0 2 1 2 1 1 1 1 0 0 0 0 0\n",
      " 2 2 1 1 0 1 0 2 2 2 2 0 0 1 1 0 0 1 1 1 2 2 1 1 1 1 0 0 2 0 1 0 1 0 1 1 2\n",
      " 2 0 2 2 1 0 1 2 0 2 0 2 1 0 2 0 1 1 0]\n",
      "[[0. 0. 1.]\n",
      " [0. 0. 1.]\n",
      " [0. 0. 1.]\n",
      " ...\n",
      " [0. 1. 0.]\n",
      " [0. 1. 0.]\n",
      " [1. 0. 0.]]\n"
     ]
    }
   ],
   "source": [
    "print(y)\n",
    "y_cat = to_categorical(y, 3)\n",
    "print(y_cat)"
   ]
  },
  {
   "cell_type": "code",
   "execution_count": 6,
   "metadata": {},
   "outputs": [
    {
     "name": "stdout",
     "output_type": "stream",
     "text": [
      "Epoch 1/50\n",
      "500/500 [==============================] - 2s 3ms/step - loss: 0.3675 - acc: 0.9120\n",
      "Epoch 2/50\n",
      "500/500 [==============================] - 0s 76us/step - loss: 0.1362 - acc: 0.9900\n",
      "Epoch 3/50\n",
      "500/500 [==============================] - 0s 104us/step - loss: 0.0805 - acc: 0.9880\n",
      "Epoch 4/50\n",
      "500/500 [==============================] - 0s 83us/step - loss: 0.0619 - acc: 0.9900\n",
      "Epoch 5/50\n",
      "500/500 [==============================] - 0s 102us/step - loss: 0.0540 - acc: 0.9900\n",
      "Epoch 6/50\n",
      "500/500 [==============================] - 0s 92us/step - loss: 0.0489 - acc: 0.9880\n",
      "Epoch 7/50\n",
      "500/500 [==============================] - 0s 96us/step - loss: 0.0463 - acc: 0.9880\n",
      "Epoch 8/50\n",
      "500/500 [==============================] - 0s 102us/step - loss: 0.0439 - acc: 0.9880\n",
      "Epoch 9/50\n",
      "500/500 [==============================] - 0s 140us/step - loss: 0.0420 - acc: 0.9880\n",
      "Epoch 10/50\n",
      "500/500 [==============================] - 0s 114us/step - loss: 0.0405 - acc: 0.9880\n",
      "Epoch 11/50\n",
      "500/500 [==============================] - 0s 108us/step - loss: 0.0391 - acc: 0.9900\n",
      "Epoch 12/50\n",
      "500/500 [==============================] - 0s 175us/step - loss: 0.0379 - acc: 0.9900\n",
      "Epoch 13/50\n",
      "500/500 [==============================] - 0s 83us/step - loss: 0.0377 - acc: 0.9880\n",
      "Epoch 14/50\n",
      "500/500 [==============================] - 0s 74us/step - loss: 0.0361 - acc: 0.9880\n",
      "Epoch 15/50\n",
      "500/500 [==============================] - 0s 88us/step - loss: 0.0356 - acc: 0.9900\n",
      "Epoch 16/50\n",
      "500/500 [==============================] - 0s 88us/step - loss: 0.0357 - acc: 0.9900\n",
      "Epoch 17/50\n",
      "500/500 [==============================] - 0s 82us/step - loss: 0.0344 - acc: 0.9880\n",
      "Epoch 18/50\n",
      "500/500 [==============================] - 0s 64us/step - loss: 0.0341 - acc: 0.9880\n",
      "Epoch 19/50\n",
      "500/500 [==============================] - 0s 76us/step - loss: 0.0331 - acc: 0.9900\n",
      "Epoch 20/50\n",
      "500/500 [==============================] - 0s 84us/step - loss: 0.0327 - acc: 0.9900\n",
      "Epoch 21/50\n",
      "500/500 [==============================] - 0s 78us/step - loss: 0.0324 - acc: 0.9900\n",
      "Epoch 22/50\n",
      "500/500 [==============================] - 0s 98us/step - loss: 0.0315 - acc: 0.9900\n",
      "Epoch 23/50\n",
      "500/500 [==============================] - 0s 60us/step - loss: 0.0311 - acc: 0.9900\n",
      "Epoch 24/50\n",
      "500/500 [==============================] - 0s 102us/step - loss: 0.0312 - acc: 0.9900\n",
      "Epoch 25/50\n",
      "500/500 [==============================] - 0s 132us/step - loss: 0.0312 - acc: 0.9900\n",
      "Epoch 26/50\n",
      "500/500 [==============================] - 0s 157us/step - loss: 0.0308 - acc: 0.9900\n",
      "Epoch 27/50\n",
      "500/500 [==============================] - 0s 100us/step - loss: 0.0304 - acc: 0.9900\n",
      "Epoch 28/50\n",
      "500/500 [==============================] - 0s 118us/step - loss: 0.0305 - acc: 0.9900\n",
      "Epoch 29/50\n",
      "500/500 [==============================] - 0s 74us/step - loss: 0.0301 - acc: 0.9900\n",
      "Epoch 30/50\n",
      "500/500 [==============================] - 0s 72us/step - loss: 0.0308 - acc: 0.9900\n",
      "Epoch 31/50\n",
      "500/500 [==============================] - 0s 92us/step - loss: 0.0290 - acc: 0.9900\n",
      "Epoch 32/50\n",
      "500/500 [==============================] - 0s 88us/step - loss: 0.0291 - acc: 0.9900\n",
      "Epoch 33/50\n",
      "500/500 [==============================] - 0s 84us/step - loss: 0.0292 - acc: 0.9900\n",
      "Epoch 34/50\n",
      "500/500 [==============================] - 0s 78us/step - loss: 0.0284 - acc: 0.9900\n",
      "Epoch 35/50\n",
      "500/500 [==============================] - 0s 74us/step - loss: 0.0284 - acc: 0.9900\n",
      "Epoch 36/50\n",
      "500/500 [==============================] - 0s 88us/step - loss: 0.0283 - acc: 0.9900\n",
      "Epoch 37/50\n",
      "500/500 [==============================] - 0s 132us/step - loss: 0.0284 - acc: 0.9900\n",
      "Epoch 38/50\n",
      "500/500 [==============================] - 0s 102us/step - loss: 0.0281 - acc: 0.9900\n",
      "Epoch 39/50\n",
      "500/500 [==============================] - 0s 114us/step - loss: 0.0279 - acc: 0.9900\n",
      "Epoch 40/50\n",
      "500/500 [==============================] - 0s 108us/step - loss: 0.0279 - acc: 0.9900\n",
      "Epoch 41/50\n",
      "500/500 [==============================] - 0s 106us/step - loss: 0.0278 - acc: 0.9900\n",
      "Epoch 42/50\n",
      "500/500 [==============================] - 0s 84us/step - loss: 0.0275 - acc: 0.9900\n",
      "Epoch 43/50\n",
      "500/500 [==============================] - 0s 104us/step - loss: 0.0275 - acc: 0.9900\n",
      "Epoch 44/50\n",
      "500/500 [==============================] - 0s 148us/step - loss: 0.0269 - acc: 0.9900\n",
      "Epoch 45/50\n",
      "500/500 [==============================] - 0s 164us/step - loss: 0.0267 - acc: 0.9900\n",
      "Epoch 46/50\n",
      "500/500 [==============================] - 0s 112us/step - loss: 0.0268 - acc: 0.9900\n",
      "Epoch 47/50\n",
      "500/500 [==============================] - 0s 96us/step - loss: 0.0274 - acc: 0.9900\n",
      "Epoch 48/50\n",
      "500/500 [==============================] - 0s 100us/step - loss: 0.0272 - acc: 0.9880\n",
      "Epoch 49/50\n",
      "500/500 [==============================] - 0s 110us/step - loss: 0.0268 - acc: 0.9900\n",
      "Epoch 50/50\n",
      "500/500 [==============================] - 0s 102us/step - loss: 0.0271 - acc: 0.9900\n"
     ]
    },
    {
     "data": {
      "text/plain": [
       "<keras.callbacks.History at 0x1e45a60ac18>"
      ]
     },
     "execution_count": 6,
     "metadata": {},
     "output_type": "execute_result"
    }
   ],
   "source": [
    "model = Sequential()\n",
    "model.add(Dense(3,input_shape=  (2,),activation = 'softmax'))\n",
    "model.compile(Adam(0.1), loss = 'categorical_crossentropy',metrics = ['accuracy'])\n",
    "model.fit(x = X, y= y_cat, verbose = 1, batch_size = 50, epochs = 50)"
   ]
  },
  {
   "cell_type": "code",
   "execution_count": 7,
   "metadata": {},
   "outputs": [],
   "source": [
    "def descision_boundary(X,y_cat, model):\n",
    "    x_span = np.linspace(min(X[:,0]) - 1, max(X[:,0]) + 1)\n",
    "    y_span = np.linspace(min(X[:,1]) - 1, max(X[:,1]) + 1)\n",
    "    xx,yy = np.meshgrid(x_span,y_span)\n",
    "    xx_,yy_ = xx.ravel(),yy.ravel()\n",
    "    grid = np.c_[xx_,yy_]\n",
    "    predictions = model.predict_classes(grid)\n",
    "\n",
    "    z = predictions.reshape(xx.shape)\n",
    "   \n",
    "    plt.contourf(xx,yy,z)"
   ]
  },
  {
   "cell_type": "code",
   "execution_count": 8,
   "metadata": {},
   "outputs": [
    {
     "data": {
      "text/plain": [
       "<matplotlib.collections.PathCollection at 0x1e46a88dd68>"
      ]
     },
     "execution_count": 8,
     "metadata": {},
     "output_type": "execute_result"
    },
    {
     "data": {
      "image/png": "[encoded data removed]",
      "text/plain": [
       "<Figure size 432x288 with 1 Axes>"
      ]
     },
     "metadata": {
      "needs_background": "light"
     },
     "output_type": "display_data"
    }
   ],
   "source": [
    "descision_boundary(X,y_cat,model)\n",
    "plt.scatter(X[y==0,0],X[y==0,1])\n",
    "plt.scatter(X[y==1,0],X[y==1,1])\n",
    "plt.scatter(X[y==2,0],X[y==2,1])"
   ]
  }
 ],
 "metadata": {
  "kernelspec": {
   "display_name": "Python 3",
   "language": "python",
   "name": "python3"
  },
  "language_info": {
   "codemirror_mode": {
    "name": "ipython",
    "version": 3
   },
   "file_extension": ".py",
   "mimetype": "text/x-python",
   "name": "python",
   "nbconvert_exporter": "python",
   "pygments_lexer": "ipython3",
   "version": "3.6.6"
  }
 },
 "nbformat": 4,
 "nbformat_minor": 2
}
