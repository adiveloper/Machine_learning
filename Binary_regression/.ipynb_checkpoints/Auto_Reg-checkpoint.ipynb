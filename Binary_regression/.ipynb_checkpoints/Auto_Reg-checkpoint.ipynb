{
 "cells": [
  {
   "cell_type": "code",
   "execution_count": 30,
   "metadata": {},
   "outputs": [
    {
     "data": {
      "text/plain": [
       "<matplotlib.collections.PathCollection at 0x17fa0bcf1d0>"
      ]
     },
     "execution_count": 30,
     "metadata": {},
     "output_type": "execute_result"
    },
    {
     "data": {
      "image/png": "[encoded data removed]",
      "text/plain": [
       "<Figure size 432x288 with 1 Axes>"
      ]
     },
     "metadata": {
      "needs_background": "light"
     },
     "output_type": "display_data"
    }
   ],
   "source": [
    "import numpy as np\n",
    "import matplotlib.pyplot as plt\n",
    "from keras.models import Sequential\n",
    "from keras.layers import Dense\n",
    "from keras.optimizers import Adam\n",
    "import matplotlib.pyplot as plt\n",
    "%matplotlib inline\n",
    "\n",
    "n_pts = 500\n",
    "np.random.seed(0)\n",
    "Xa = np.array([np.random.normal(13, 2, n_pts),\n",
    "               np.random.normal(12, 2, n_pts)]).T\n",
    "Xb = np.array([np.random.normal(8, 2, n_pts),\n",
    "               np.random.normal(6, 2, n_pts)]).T\n",
    " \n",
    "X = np.vstack((Xa, Xb))\n",
    "y = np.matrix(np.append(np.zeros(n_pts), np.ones(n_pts))).T\n",
    " \n",
    "plt.scatter(X[:n_pts,0], X[:n_pts,1])\n",
    "plt.scatter(X[n_pts:,0], X[n_pts:,1])\n",
    "\n",
    "\n",
    "\n"
   ]
  },
  {
   "cell_type": "code",
   "execution_count": 32,
   "metadata": {},
   "outputs": [
    {
     "name": "stdout",
     "output_type": "stream",
     "text": [
      "Epoch 1/50\n",
      "1000/1000 [==============================] - 1s 769us/step - loss: 7.9712 - acc: 0.5000\n",
      "Epoch 2/50\n",
      "1000/1000 [==============================] - 0s 51us/step - loss: 7.9712 - acc: 0.5000\n",
      "Epoch 3/50\n",
      "1000/1000 [==============================] - 0s 51us/step - loss: 7.9712 - acc: 0.5000\n",
      "Epoch 4/50\n",
      "1000/1000 [==============================] - 0s 50us/step - loss: 7.9712 - acc: 0.5000\n",
      "Epoch 5/50\n",
      "1000/1000 [==============================] - 0s 51us/step - loss: 7.9712 - acc: 0.5000\n",
      "Epoch 6/50\n",
      "1000/1000 [==============================] - 0s 49us/step - loss: 7.9712 - acc: 0.5000\n",
      "Epoch 7/50\n",
      "1000/1000 [==============================] - 0s 52us/step - loss: 7.9712 - acc: 0.5000\n",
      "Epoch 8/50\n",
      "1000/1000 [==============================] - 0s 53us/step - loss: 7.9712 - acc: 0.5000\n",
      "Epoch 9/50\n",
      "1000/1000 [==============================] - 0s 59us/step - loss: 7.9712 - acc: 0.5000\n",
      "Epoch 10/50\n",
      "1000/1000 [==============================] - 0s 62us/step - loss: 7.9712 - acc: 0.5000\n",
      "Epoch 11/50\n",
      "1000/1000 [==============================] - 0s 54us/step - loss: 7.9712 - acc: 0.5000\n",
      "Epoch 12/50\n",
      "1000/1000 [==============================] - 0s 53us/step - loss: 7.9712 - acc: 0.5000\n",
      "Epoch 13/50\n",
      "1000/1000 [==============================] - 0s 58us/step - loss: 7.9712 - acc: 0.5000\n",
      "Epoch 14/50\n",
      "1000/1000 [==============================] - 0s 58us/step - loss: 7.9712 - acc: 0.5000\n",
      "Epoch 15/50\n",
      "1000/1000 [==============================] - 0s 85us/step - loss: 7.9712 - acc: 0.5000\n",
      "Epoch 16/50\n",
      "1000/1000 [==============================] - 0s 85us/step - loss: 7.9712 - acc: 0.5000\n",
      "Epoch 17/50\n",
      "1000/1000 [==============================] - 0s 81us/step - loss: 7.9712 - acc: 0.5000\n",
      "Epoch 18/50\n",
      "1000/1000 [==============================] - 0s 81us/step - loss: 7.9712 - acc: 0.5000\n",
      "Epoch 19/50\n",
      "1000/1000 [==============================] - 0s 79us/step - loss: 7.9712 - acc: 0.5000\n",
      "Epoch 20/50\n",
      "1000/1000 [==============================] - 0s 77us/step - loss: 7.9712 - acc: 0.5000\n",
      "Epoch 21/50\n",
      "1000/1000 [==============================] - 0s 88us/step - loss: 7.9712 - acc: 0.5000\n",
      "Epoch 22/50\n",
      "1000/1000 [==============================] - 0s 98us/step - loss: 7.9712 - acc: 0.5000\n",
      "Epoch 23/50\n",
      "1000/1000 [==============================] - 0s 87us/step - loss: 7.9712 - acc: 0.5000\n",
      "Epoch 24/50\n",
      "1000/1000 [==============================] - 0s 81us/step - loss: 7.9712 - acc: 0.5000\n",
      "Epoch 25/50\n",
      "1000/1000 [==============================] - 0s 60us/step - loss: 7.9712 - acc: 0.5000\n",
      "Epoch 26/50\n",
      "1000/1000 [==============================] - 0s 47us/step - loss: 7.9712 - acc: 0.5000\n",
      "Epoch 27/50\n",
      "1000/1000 [==============================] - 0s 95us/step - loss: 7.9712 - acc: 0.5000\n",
      "Epoch 28/50\n",
      "1000/1000 [==============================] - 0s 80us/step - loss: 7.9712 - acc: 0.5000\n",
      "Epoch 29/50\n",
      "1000/1000 [==============================] - 0s 50us/step - loss: 7.9712 - acc: 0.5000\n",
      "Epoch 30/50\n",
      "1000/1000 [==============================] - 0s 48us/step - loss: 7.9712 - acc: 0.5000\n",
      "Epoch 31/50\n",
      "1000/1000 [==============================] - 0s 73us/step - loss: 7.9712 - acc: 0.5000\n",
      "Epoch 32/50\n",
      "1000/1000 [==============================] - 0s 101us/step - loss: 7.9712 - acc: 0.5000\n",
      "Epoch 33/50\n",
      "1000/1000 [==============================] - 0s 82us/step - loss: 7.9712 - acc: 0.5000\n",
      "Epoch 34/50\n",
      "1000/1000 [==============================] - 0s 57us/step - loss: 7.9712 - acc: 0.5000\n",
      "Epoch 35/50\n",
      "1000/1000 [==============================] - 0s 53us/step - loss: 7.9712 - acc: 0.5000\n",
      "Epoch 36/50\n",
      "1000/1000 [==============================] - 0s 60us/step - loss: 7.9712 - acc: 0.5000\n",
      "Epoch 37/50\n",
      "1000/1000 [==============================] - 0s 86us/step - loss: 7.9712 - acc: 0.5000\n",
      "Epoch 38/50\n",
      "1000/1000 [==============================] - 0s 78us/step - loss: 7.9712 - acc: 0.5000\n",
      "Epoch 39/50\n",
      "1000/1000 [==============================] - 0s 89us/step - loss: 7.9712 - acc: 0.5000\n",
      "Epoch 40/50\n",
      "1000/1000 [==============================] - 0s 56us/step - loss: 7.9712 - acc: 0.5000\n",
      "Epoch 41/50\n",
      "1000/1000 [==============================] - 0s 58us/step - loss: 7.9712 - acc: 0.5000\n",
      "Epoch 42/50\n",
      "1000/1000 [==============================] - 0s 64us/step - loss: 7.9712 - acc: 0.5000\n",
      "Epoch 43/50\n",
      "1000/1000 [==============================] - 0s 87us/step - loss: 7.9712 - acc: 0.5000\n",
      "Epoch 44/50\n",
      "1000/1000 [==============================] - 0s 87us/step - loss: 7.9712 - acc: 0.5000\n",
      "Epoch 45/50\n",
      "1000/1000 [==============================] - 0s 51us/step - loss: 7.9712 - acc: 0.5000\n",
      "Epoch 46/50\n",
      "1000/1000 [==============================] - 0s 69us/step - loss: 7.9712 - acc: 0.5000\n",
      "Epoch 47/50\n",
      "1000/1000 [==============================] - 0s 69us/step - loss: 7.9712 - acc: 0.5000\n",
      "Epoch 48/50\n",
      "1000/1000 [==============================] - 0s 91us/step - loss: 7.9712 - acc: 0.5000\n",
      "Epoch 49/50\n",
      "1000/1000 [==============================] - 0s 81us/step - loss: 7.9712 - acc: 0.5000\n",
      "Epoch 50/50\n",
      "1000/1000 [==============================] - 0s 71us/step - loss: 7.9712 - acc: 0.5000\n"
     ]
    },
    {
     "ename": "KeyError",
     "evalue": "'accu'",
     "output_type": "error",
     "traceback": [
      "\u001b[1;31m---------------------------------------------------------------------------\u001b[0m",
      "\u001b[1;31mKeyError\u001b[0m                                  Traceback (most recent call last)",
      "\u001b[1;32m<ipython-input-32-611d7fd200a6>\u001b[0m in \u001b[0;36m<module>\u001b[1;34m\u001b[0m\n\u001b[0;32m      5\u001b[0m \u001b[0mh\u001b[0m\u001b[1;33m=\u001b[0m \u001b[0mmodel\u001b[0m\u001b[1;33m.\u001b[0m\u001b[0mfit\u001b[0m\u001b[1;33m(\u001b[0m\u001b[0mx\u001b[0m\u001b[1;33m=\u001b[0m \u001b[0mX\u001b[0m\u001b[1;33m,\u001b[0m\u001b[0my\u001b[0m \u001b[1;33m=\u001b[0m \u001b[0my\u001b[0m\u001b[1;33m,\u001b[0m \u001b[0mverbose\u001b[0m\u001b[1;33m=\u001b[0m\u001b[1;36m1\u001b[0m\u001b[1;33m,\u001b[0m\u001b[0mbatch_size\u001b[0m \u001b[1;33m=\u001b[0m \u001b[1;36m50\u001b[0m\u001b[1;33m,\u001b[0m \u001b[0mepochs\u001b[0m \u001b[1;33m=\u001b[0m \u001b[1;36m50\u001b[0m\u001b[1;33m,\u001b[0m \u001b[0mshuffle\u001b[0m \u001b[1;33m=\u001b[0m \u001b[1;34m'true'\u001b[0m\u001b[1;33m)\u001b[0m\u001b[1;33m\u001b[0m\u001b[0m\n\u001b[0;32m      6\u001b[0m \u001b[1;33m\u001b[0m\u001b[0m\n\u001b[1;32m----> 7\u001b[1;33m \u001b[0mplt\u001b[0m\u001b[1;33m.\u001b[0m\u001b[0mplot\u001b[0m\u001b[1;33m(\u001b[0m\u001b[0mh\u001b[0m\u001b[1;33m.\u001b[0m\u001b[0mhistory\u001b[0m\u001b[1;33m[\u001b[0m\u001b[1;34m'accu'\u001b[0m\u001b[1;33m]\u001b[0m\u001b[1;33m)\u001b[0m\u001b[1;33m\u001b[0m\u001b[0m\n\u001b[0m\u001b[0;32m      8\u001b[0m \u001b[0mplt\u001b[0m\u001b[1;33m.\u001b[0m\u001b[0mtitle\u001b[0m\u001b[1;33m(\u001b[0m\u001b[1;34m'accuracy'\u001b[0m\u001b[1;33m)\u001b[0m\u001b[1;33m\u001b[0m\u001b[0m\n\u001b[0;32m      9\u001b[0m \u001b[0mplt\u001b[0m\u001b[1;33m.\u001b[0m\u001b[0mxlabel\u001b[0m\u001b[1;33m(\u001b[0m\u001b[1;34m'epoch'\u001b[0m\u001b[1;33m)\u001b[0m\u001b[1;33m\u001b[0m\u001b[0m\n",
      "\u001b[1;31mKeyError\u001b[0m: 'accu'"
     ]
    }
   ],
   "source": [
    "model = Sequential()\n",
    "model.add(Dense(units = 1,input_shape=(2,),activation = 'sigmoid'))\n",
    "adam = Adam(lr = 0.1)\n",
    "model.compile(adam,loss='binary_crossentropy',metrics = ['accuracy'])\n",
    "h= model.fit(x= X,y = y, verbose=1,batch_size = 50, epochs = 50, shuffle = 'true')\n",
    "\n",
    "plt.plot(h.history['acc'])\n",
    "plt.title('accuracy')\n",
    "plt.xlabel('epoch')\n",
    "plt.legend(['accuracy'])"
   ]
  },
  {
   "cell_type": "code",
   "execution_count": null,
   "metadata": {},
   "outputs": [],
   "source": []
  }
 ],
 "metadata": {
  "kernelspec": {
   "display_name": "Python 3",
   "language": "python",
   "name": "python3"
  },
  "language_info": {
   "codemirror_mode": {
    "name": "ipython",
    "version": 3
   },
   "file_extension": ".py",
   "mimetype": "text/x-python",
   "name": "python",
   "nbconvert_exporter": "python",
   "pygments_lexer": "ipython3",
   "version": "3.6.6"
  }
 },
 "nbformat": 4,
 "nbformat_minor": 2
}
